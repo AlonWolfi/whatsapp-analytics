{
 "cells": [
  {
   "cell_type": "code",
   "execution_count": 4,
   "id": "fe7504db",
   "metadata": {},
   "outputs": [
    {
     "data": {
      "text/plain": [
       "True"
      ]
     },
     "execution_count": 4,
     "metadata": {},
     "output_type": "execute_result"
    }
   ],
   "source": [
    "import os\n",
    "os.path.exists(DATA_DIR /'images'/'whatsapp_cover.png')"
   ]
  },
  {
   "cell_type": "code",
   "execution_count": 12,
   "id": "e49eaa31",
   "metadata": {},
   "outputs": [],
   "source": []
  },
  {
   "cell_type": "code",
   "execution_count": 9,
   "id": "1e827727",
   "metadata": {},
   "outputs": [
    {
     "ename": "SystemError",
     "evalue": "<built-in function imread> returned NULL without setting an error",
     "output_type": "error",
     "traceback": [
      "\u001b[1;31m---------------------------------------------------------------------------\u001b[0m",
      "\u001b[1;31mSystemError\u001b[0m                               Traceback (most recent call last)",
      "\u001b[1;32m<ipython-input-9-d9cc277fe26c>\u001b[0m in \u001b[0;36m<module>\u001b[1;34m\u001b[0m\n\u001b[0;32m      1\u001b[0m \u001b[1;32mimport\u001b[0m \u001b[0mcv2\u001b[0m\u001b[1;33m\u001b[0m\u001b[1;33m\u001b[0m\u001b[0m\n\u001b[0;32m      2\u001b[0m \u001b[1;32mfrom\u001b[0m \u001b[0mconfig\u001b[0m \u001b[1;32mimport\u001b[0m \u001b[0mPROJECT_DIR\u001b[0m\u001b[1;33m,\u001b[0m \u001b[0mDATA_DIR\u001b[0m\u001b[1;33m\u001b[0m\u001b[1;33m\u001b[0m\u001b[0m\n\u001b[1;32m----> 3\u001b[1;33m \u001b[0mcv2\u001b[0m\u001b[1;33m.\u001b[0m\u001b[0mimread\u001b[0m\u001b[1;33m(\u001b[0m\u001b[0mDATA_DIR\u001b[0m \u001b[1;33m/\u001b[0m\u001b[1;34m'images'\u001b[0m\u001b[1;33m/\u001b[0m\u001b[1;34m'whatsapp_cover.png'\u001b[0m\u001b[1;33m,\u001b[0m \u001b[1;36m1\u001b[0m\u001b[1;33m)\u001b[0m\u001b[1;33m\u001b[0m\u001b[1;33m\u001b[0m\u001b[0m\n\u001b[0m",
      "\u001b[1;31mSystemError\u001b[0m: <built-in function imread> returned NULL without setting an error"
     ]
    }
   ],
   "source": [
    "import cv2\n",
    "from config import PROJECT_DIR, DATA_DIR\n",
    "cv2.imread(DATA_DIR /'images'/'whatsapp_cover.png', 1)"
   ]
  },
  {
   "cell_type": "code",
   "execution_count": 2,
   "id": "9c51080b",
   "metadata": {},
   "outputs": [
    {
     "name": "stderr",
     "output_type": "stream",
     "text": [
      "In C:\\Alon\\Anaconda3\\lib\\site-packages\\matplotlib\\mpl-data\\stylelib\\_classic_test.mplstyle: \n",
      "The text.latex.preview rcparam was deprecated in Matplotlib 3.3 and will be removed two minor releases later.\n",
      "In C:\\Alon\\Anaconda3\\lib\\site-packages\\matplotlib\\mpl-data\\stylelib\\_classic_test.mplstyle: \n",
      "The mathtext.fallback_to_cm rcparam was deprecated in Matplotlib 3.3 and will be removed two minor releases later.\n",
      "In C:\\Alon\\Anaconda3\\lib\\site-packages\\matplotlib\\mpl-data\\stylelib\\_classic_test.mplstyle: Support for setting the 'mathtext.fallback_to_cm' rcParam is deprecated since 3.3 and will be removed two minor releases later; use 'mathtext.fallback : 'cm' instead.\n",
      "In C:\\Alon\\Anaconda3\\lib\\site-packages\\matplotlib\\mpl-data\\stylelib\\_classic_test.mplstyle: \n",
      "The validate_bool_maybe_none function was deprecated in Matplotlib 3.3 and will be removed two minor releases later.\n",
      "In C:\\Alon\\Anaconda3\\lib\\site-packages\\matplotlib\\mpl-data\\stylelib\\_classic_test.mplstyle: \n",
      "The savefig.jpeg_quality rcparam was deprecated in Matplotlib 3.3 and will be removed two minor releases later.\n",
      "In C:\\Alon\\Anaconda3\\lib\\site-packages\\matplotlib\\mpl-data\\stylelib\\_classic_test.mplstyle: \n",
      "The keymap.all_axes rcparam was deprecated in Matplotlib 3.3 and will be removed two minor releases later.\n",
      "In C:\\Alon\\Anaconda3\\lib\\site-packages\\matplotlib\\mpl-data\\stylelib\\_classic_test.mplstyle: \n",
      "The animation.avconv_path rcparam was deprecated in Matplotlib 3.3 and will be removed two minor releases later.\n",
      "In C:\\Alon\\Anaconda3\\lib\\site-packages\\matplotlib\\mpl-data\\stylelib\\_classic_test.mplstyle: \n",
      "The animation.avconv_args rcparam was deprecated in Matplotlib 3.3 and will be removed two minor releases later.\n"
     ]
    }
   ],
   "source": [
    "# base\n",
    "import pandas as pd\n",
    "import numpy as np\n",
    "import matplotlib.pyplot as plt\n",
    "import seaborn as sns\n",
    "\n",
    "# matplotlib\n",
    "%matplotlib inline\n",
    "plt.style.use('ggplot')\n",
    "\n",
    "# display\n",
    "from IPython.display import display\n",
    "\n",
    "# autoreload\n",
    "%load_ext autoreload\n",
    "%autoreload 2\n",
    "\n",
    "# warnings\n",
    "import warnings\n",
    "warnings.filterwarnings('ignore')\n",
    "\n",
    "# fix random seed\n",
    "from numpy.random import seed as set_random_seed\n",
    "set_random_seed(42)\n",
    "\n",
    "# explainability\n",
    "# import shap, lime, eli5\n",
    "# shap.initjs()\n",
    "\n",
    "#mlflow\n",
    "import mlflow\n",
    "mlflow.set_tracking_uri(\"http://127.0.0.1:5000/\")\n",
    "\n",
    "\n",
    "#streamlit - delteuse\n",
    "import streamlit as st\n",
    "def cache(f):\n",
    "    return f\n",
    "st.cache = cache\n",
    "\n",
    "## util functions\n",
    "def eval_print(obj_str):\n",
    "    import inspect\n",
    "    frame = inspect.currentframe()\n",
    "    try:\n",
    "        locals().update(frame.f_back.f_locals)\n",
    "        x = eval(obj_str)\n",
    "        print(f'{obj_str}: {x}')\n",
    "    finally:\n",
    "        del frame\n",
    "\n",
    "def findFiles(path): \n",
    "    import glob\n",
    "    return glob.glob(path)"
   ]
  },
  {
   "cell_type": "code",
   "execution_count": null,
   "id": "cb078e1e",
   "metadata": {},
   "outputs": [],
   "source": []
  },
  {
   "cell_type": "code",
   "execution_count": 3,
   "id": "2d9b7b6f",
   "metadata": {},
   "outputs": [],
   "source": [
    "from utils import read_chat\n",
    "chat = read_chat()"
   ]
  },
  {
   "cell_type": "code",
   "execution_count": 4,
   "id": "a9fdfcf3",
   "metadata": {
    "scrolled": true
   },
   "outputs": [
    {
     "name": "stdout",
     "output_type": "stream",
     "text": [
      "                 datetime                 name  \\\n",
      "0     2018-05-10 13:45:00          Alon Wolf 🐺   \n",
      "1     2018-05-10 13:45:00          Alon Wolf 🐺   \n",
      "2     2018-05-10 13:46:00          Alon Wolf 🐺   \n",
      "3     2018-05-10 13:47:00  גורגמל ״מצחיקונת״ 🍠   \n",
      "4     2018-05-10 13:47:00  גורגמל ״מצחיקונת״ 🍠   \n",
      "...                   ...                  ...   \n",
      "39994 2020-11-20 07:46:00          Alon Wolf 🐺   \n",
      "39995 2020-11-20 07:46:00          Alon Wolf 🐺   \n",
      "39996 2020-11-20 07:47:00          Alon Wolf 🐺   \n",
      "39997 2020-11-20 07:47:00          Alon Wolf 🐺   \n",
      "39998 2020-11-20 08:12:00          Alon Wolf 🐺   \n",
      "\n",
      "                                                    text  \n",
      "0                        איזה אתרים קדושים יש בירושלים\\r  \n",
      "1      לפי מקומות - תל-אביב - 'משימה שקשורה לים'\\r\\nי...  \n",
      "2                                            לדוגמא 👆🏼\\r  \n",
      "3                                    זה מה שאני אמרתי!\\r  \n",
      "4                              תעשה בירושלים את הפלאפל\\r  \n",
      "...                                                  ...  \n",
      "39994                   זה * בול * מה שרציתי שיהיה לנו\\r  \n",
      "39995                                 <המדיה לא נכללה>\\r  \n",
      "39996                                      איזה כיף (:\\r  \n",
      "39997                     תאמרי לה לשים אותם גבוה גבוה\\r  \n",
      "39998                                 <המדיה לא נכללה>\\r  \n",
      "\n",
      "[39999 rows x 3 columns]\n"
     ]
    }
   ],
   "source": [
    "print(chat)"
   ]
  },
  {
   "cell_type": "code",
   "execution_count": 5,
   "id": "e22b6c16",
   "metadata": {},
   "outputs": [],
   "source": [
    "from apps.statistics import get_text_for_name"
   ]
  },
  {
   "cell_type": "code",
   "execution_count": 7,
   "id": "d32e2f68",
   "metadata": {},
   "outputs": [],
   "source": [
    "names = chat['name'].unique()"
   ]
  },
  {
   "cell_type": "code",
   "execution_count": 8,
   "id": "d8c9ae1f",
   "metadata": {},
   "outputs": [
    {
     "data": {
      "text/plain": [
       "'Alon Wolf 🐺'"
      ]
     },
     "execution_count": 8,
     "metadata": {},
     "output_type": "execute_result"
    }
   ],
   "source": [
    "name = chat['name'].unique()[0]\n",
    "text = get_text_for_name(chat, name)\n",
    "name"
   ]
  },
  {
   "cell_type": "code",
   "execution_count": 9,
   "id": "2b0a2007",
   "metadata": {},
   "outputs": [
    {
     "data": {
      "text/plain": [
       "17"
      ]
     },
     "execution_count": 9,
     "metadata": {},
     "output_type": "execute_result"
    }
   ],
   "source": [
    "def average_massage(char):\n",
    "    count = text.str.contains(char).sum()\n",
    "    if count == 0:\n",
    "        return 'אף פעם'\n",
    "    return int(np.round(len(text) / count))\n",
    "average_massage('❤')"
   ]
  },
  {
   "cell_type": "code",
   "execution_count": 10,
   "id": "9f753ec1",
   "metadata": {},
   "outputs": [
    {
     "data": {
      "text/plain": [
       "96"
      ]
     },
     "execution_count": 10,
     "metadata": {},
     "output_type": "execute_result"
    }
   ],
   "source": [
    "average_massage('אוהב')"
   ]
  },
  {
   "cell_type": "code",
   "execution_count": 11,
   "id": "601e3170",
   "metadata": {},
   "outputs": [
    {
     "data": {
      "text/plain": [
       "185"
      ]
     },
     "execution_count": 11,
     "metadata": {},
     "output_type": "execute_result"
    }
   ],
   "source": [
    "average_massage('אוהב אותך')"
   ]
  },
  {
   "cell_type": "code",
   "execution_count": 12,
   "id": "396312d8",
   "metadata": {},
   "outputs": [
    {
     "data": {
      "text/plain": [
       "349"
      ]
     },
     "execution_count": 12,
     "metadata": {},
     "output_type": "execute_result"
    }
   ],
   "source": [
    "average_massage('מתגעגע')"
   ]
  },
  {
   "cell_type": "code",
   "execution_count": 14,
   "id": "6852e4d9",
   "metadata": {},
   "outputs": [
    {
     "data": {
      "text/plain": [
       "4"
      ]
     },
     "execution_count": 14,
     "metadata": {},
     "output_type": "execute_result"
    }
   ],
   "source": [
    "import emoji\n",
    "average_massage('[' + ''.join(list(emoji.UNICODE_EMOJI['en'].keys()))+ ']')"
   ]
  },
  {
   "cell_type": "code",
   "execution_count": 15,
   "id": "c600fac2",
   "metadata": {},
   "outputs": [],
   "source": [
    "def tokenize_text(text):\n",
    "    return text.str.split(' ')"
   ]
  },
  {
   "cell_type": "code",
   "execution_count": 17,
   "id": "c327afd7",
   "metadata": {},
   "outputs": [
    {
     "data": {
      "text/plain": [
       "3.83"
      ]
     },
     "execution_count": 17,
     "metadata": {},
     "output_type": "execute_result"
    }
   ],
   "source": [
    "def average_massage_len():\n",
    "    return np.round(tokenize_text(text).apply(len).sum() / len(text), 2)\n",
    "average_massage_len()"
   ]
  },
  {
   "cell_type": "code",
   "execution_count": 18,
   "id": "2b17962d",
   "metadata": {},
   "outputs": [
    {
     "data": {
      "text/plain": [
       "438"
      ]
     },
     "execution_count": 18,
     "metadata": {},
     "output_type": "execute_result"
    }
   ],
   "source": [
    "def max_massage_len():\n",
    "    return max(tokenize_text(text).apply(len))\n",
    "max_massage_len()"
   ]
  },
  {
   "cell_type": "code",
   "execution_count": 19,
   "id": "37addbc2",
   "metadata": {},
   "outputs": [
    {
     "data": {
      "text/plain": [
       "<AxesSubplot:ylabel='Frequency'>"
      ]
     },
     "execution_count": 19,
     "metadata": {},
     "output_type": "execute_result"
    },
    {
     "data": {
      "image/png": "[encoded data removed]",
      "text/plain": [
       "<Figure size 432x288 with 1 Axes>"
      ]
     },
     "metadata": {},
     "output_type": "display_data"
    }
   ],
   "source": [
    "series = tokenize_text(text).apply(len)\n",
    "series.plot.hist(range = (0,np.quantile(series,0.998)))"
   ]
  },
  {
   "cell_type": "code",
   "execution_count": 99,
   "id": "c8713266",
   "metadata": {},
   "outputs": [
    {
     "data": {
      "text/plain": [
       "(array([   0, 7102, 3164, 3618,    0, 2326, 1635, 1116,  773,    0,  515,\n",
       "         379,  293,  183,    0,  156,  141,  105,   58,    0,   53,   55,\n",
       "          28,   36,    0,   40,   18,   18,   15,    0,   11,   11,    6,\n",
       "          10,    0,    7,    5,    6,    8,    0,    2,    4,    0,    5,\n",
       "           0,    3,    3,    4,    2,    5], dtype=int64),\n",
       " array([ 0. ,  0.8,  1.6,  2.4,  3.2,  4. ,  4.8,  5.6,  6.4,  7.2,  8. ,\n",
       "         8.8,  9.6, 10.4, 11.2, 12. , 12.8, 13.6, 14.4, 15.2, 16. , 16.8,\n",
       "        17.6, 18.4, 19.2, 20. , 20.8, 21.6, 22.4, 23.2, 24. , 24.8, 25.6,\n",
       "        26.4, 27.2, 28. , 28.8, 29.6, 30.4, 31.2, 32. , 32.8, 33.6, 34.4,\n",
       "        35.2, 36. , 36.8, 37.6, 38.4, 39.2, 40. ]))"
      ]
     },
     "execution_count": 99,
     "metadata": {},
     "output_type": "execute_result"
    }
   ],
   "source": [
    "np.histogram(series, bins = 50, range = (0,np.quantile(series,0.998)))"
   ]
  },
  {
   "cell_type": "code",
   "execution_count": null,
   "id": "815f4a2a",
   "metadata": {},
   "outputs": [],
   "source": []
  },
  {
   "cell_type": "code",
   "execution_count": 24,
   "id": "e870a797",
   "metadata": {},
   "outputs": [
    {
     "data": {
      "text/plain": [
       "Alon Wolf 🐺            0.520581\n",
       "גורגמל ״מצחיקונת״ 🍠    0.479419\n",
       "Name: name, dtype: float64"
      ]
     },
     "execution_count": 24,
     "metadata": {},
     "output_type": "execute_result"
    }
   ],
   "source": []
  },
  {
   "cell_type": "code",
   "execution_count": 32,
   "id": "f700299b",
   "metadata": {},
   "outputs": [
    {
     "data": {
      "text/plain": [
       "'52%'"
      ]
     },
     "execution_count": 32,
     "metadata": {},
     "output_type": "execute_result"
    }
   ],
   "source": [
    "def first_massage(chat, name):\n",
    "    first_massage_by_date = chat.groupby(chat['datetime'].dt.date).first()['name']\n",
    "    fm_vc = first_massage_by_date.value_counts() / len(first_massage_by_date)\n",
    "    return np.round(fm_vc[name], 2)\n",
    "str(int(first_massage(chat, name) * 100))+ '%'"
   ]
  },
  {
   "cell_type": "code",
   "execution_count": 37,
   "id": "1b2e0430",
   "metadata": {},
   "outputs": [],
   "source": [
    "dates = chat['datetime'].dt.date\n",
    "chat_by_date = chat[dates == dates[0]]"
   ]
  },
  {
   "cell_type": "code",
   "execution_count": 38,
   "id": "9972be46",
   "metadata": {
    "scrolled": true
   },
   "outputs": [
    {
     "data": {
      "text/html": [
       "<div>\n",
       "<style scoped>\n",
       "    .dataframe tbody tr th:only-of-type {\n",
       "        vertical-align: middle;\n",
       "    }\n",
       "\n",
       "    .dataframe tbody tr th {\n",
       "        vertical-align: top;\n",
       "    }\n",
       "\n",
       "    .dataframe thead th {\n",
       "        text-align: right;\n",
       "    }\n",
       "</style>\n",
       "<table border=\"1\" class=\"dataframe\">\n",
       "  <thead>\n",
       "    <tr style=\"text-align: right;\">\n",
       "      <th></th>\n",
       "      <th>datetime</th>\n",
       "      <th>name</th>\n",
       "      <th>text</th>\n",
       "    </tr>\n",
       "  </thead>\n",
       "  <tbody>\n",
       "    <tr>\n",
       "      <th>0</th>\n",
       "      <td>2018-05-10 13:45:00</td>\n",
       "      <td>Alon Wolf 🐺</td>\n",
       "      <td>איזה אתרים קדושים יש בירושלים\\r</td>\n",
       "    </tr>\n",
       "    <tr>\n",
       "      <th>1</th>\n",
       "      <td>2018-05-10 13:45:00</td>\n",
       "      <td>Alon Wolf 🐺</td>\n",
       "      <td>לפי מקומות - תל-אביב - 'משימה שקשורה לים'\\r\\nי...</td>\n",
       "    </tr>\n",
       "    <tr>\n",
       "      <th>2</th>\n",
       "      <td>2018-05-10 13:46:00</td>\n",
       "      <td>Alon Wolf 🐺</td>\n",
       "      <td>לדוגמא 👆🏼\\r</td>\n",
       "    </tr>\n",
       "    <tr>\n",
       "      <th>3</th>\n",
       "      <td>2018-05-10 13:47:00</td>\n",
       "      <td>גורגמל ״מצחיקונת״ 🍠</td>\n",
       "      <td>זה מה שאני אמרתי!\\r</td>\n",
       "    </tr>\n",
       "    <tr>\n",
       "      <th>4</th>\n",
       "      <td>2018-05-10 13:47:00</td>\n",
       "      <td>גורגמל ״מצחיקונת״ 🍠</td>\n",
       "      <td>תעשה בירושלים את הפלאפל\\r</td>\n",
       "    </tr>\n",
       "    <tr>\n",
       "      <th>5</th>\n",
       "      <td>2018-05-10 13:51:00</td>\n",
       "      <td>Alon Wolf 🐺</td>\n",
       "      <td>&lt;המדיה לא נכללה&gt;\\r</td>\n",
       "    </tr>\n",
       "    <tr>\n",
       "      <th>6</th>\n",
       "      <td>2018-05-10 13:52:00</td>\n",
       "      <td>Alon Wolf 🐺</td>\n",
       "      <td>זה נכון חחח\\r</td>\n",
       "    </tr>\n",
       "    <tr>\n",
       "      <th>7</th>\n",
       "      <td>2018-05-10 13:54:00</td>\n",
       "      <td>גורגמל ״מצחיקונת״ 🍠</td>\n",
       "      <td>אולי בהקשר של תל אביב וים למרוח קרם הגנה\\r</td>\n",
       "    </tr>\n",
       "    <tr>\n",
       "      <th>8</th>\n",
       "      <td>2018-05-10 13:54:00</td>\n",
       "      <td>גורגמל ״מצחיקונת״ 🍠</td>\n",
       "      <td>לא יודעת בדיוק מה התחרות 😂 אבל משהו עם קרם הגנה\\r</td>\n",
       "    </tr>\n",
       "    <tr>\n",
       "      <th>9</th>\n",
       "      <td>2018-05-10 13:54:00</td>\n",
       "      <td>Alon Wolf 🐺</td>\n",
       "      <td>חחחח אפשרי\\r</td>\n",
       "    </tr>\n",
       "    <tr>\n",
       "      <th>10</th>\n",
       "      <td>2018-05-10 13:56:00</td>\n",
       "      <td>גורגמל ״מצחיקונת״ 🍠</td>\n",
       "      <td>למרוח את הפנים של כולם, להצטלם ולהעלות לאינסטג...</td>\n",
       "    </tr>\n",
       "    <tr>\n",
       "      <th>11</th>\n",
       "      <td>2018-05-10 13:56:00</td>\n",
       "      <td>גורגמל ״מצחיקונת״ 🍠</td>\n",
       "      <td>לאכול קרטיב בלי ידיים?\\r</td>\n",
       "    </tr>\n",
       "    <tr>\n",
       "      <th>12</th>\n",
       "      <td>2018-05-10 13:58:00</td>\n",
       "      <td>Alon Wolf 🐺</td>\n",
       "      <td>יש אכילת פיתה בלי ידיים\\r</td>\n",
       "    </tr>\n",
       "    <tr>\n",
       "      <th>13</th>\n",
       "      <td>2018-05-10 13:58:00</td>\n",
       "      <td>Alon Wolf 🐺</td>\n",
       "      <td>חסר משימה עם אכילת חומוס !\\r</td>\n",
       "    </tr>\n",
       "    <tr>\n",
       "      <th>14</th>\n",
       "      <td>2018-05-10 13:59:00</td>\n",
       "      <td>Alon Wolf 🐺</td>\n",
       "      <td>מה עם 3 אחד על הגב של השני כמו גמל?\\r</td>\n",
       "    </tr>\n",
       "    <tr>\n",
       "      <th>15</th>\n",
       "      <td>2018-05-10 13:59:00</td>\n",
       "      <td>גורגמל ״מצחיקונת״ 🍠</td>\n",
       "      <td>לא הבנתי\\r</td>\n",
       "    </tr>\n",
       "    <tr>\n",
       "      <th>16</th>\n",
       "      <td>2018-05-10 14:04:00</td>\n",
       "      <td>Alon Wolf 🐺</td>\n",
       "      <td>שמישהו אחד יצליח להחזיק 2 אנשים על הגב למשך חצ...</td>\n",
       "    </tr>\n",
       "    <tr>\n",
       "      <th>17</th>\n",
       "      <td>2018-05-10 14:05:00</td>\n",
       "      <td>גורגמל ״מצחיקונת״ 🍠</td>\n",
       "      <td>חחחחח זה מצחיק\\r</td>\n",
       "    </tr>\n",
       "    <tr>\n",
       "      <th>18</th>\n",
       "      <td>2018-05-10 14:06:00</td>\n",
       "      <td>גורגמל ״מצחיקונת״ 🍠</td>\n",
       "      <td>רק שיכאב לו הגב אח''כ 😂\\r</td>\n",
       "    </tr>\n",
       "    <tr>\n",
       "      <th>19</th>\n",
       "      <td>2018-05-10 14:06:00</td>\n",
       "      <td>Alon Wolf 🐺</td>\n",
       "      <td>שיתגברו\\r</td>\n",
       "    </tr>\n",
       "    <tr>\n",
       "      <th>20</th>\n",
       "      <td>2018-05-10 15:19:00</td>\n",
       "      <td>Alon Wolf 🐺</td>\n",
       "      <td>&lt;המדיה לא נכללה&gt;\\r</td>\n",
       "    </tr>\n",
       "    <tr>\n",
       "      <th>21</th>\n",
       "      <td>2018-05-10 15:19:00</td>\n",
       "      <td>Alon Wolf 🐺</td>\n",
       "      <td>&lt;המדיה לא נכללה&gt;\\r</td>\n",
       "    </tr>\n",
       "    <tr>\n",
       "      <th>22</th>\n",
       "      <td>2018-05-10 15:19:00</td>\n",
       "      <td>Alon Wolf 🐺</td>\n",
       "      <td>מה שיש לנו ומה שחסר (:\\r</td>\n",
       "    </tr>\n",
       "    <tr>\n",
       "      <th>23</th>\n",
       "      <td>2018-05-10 15:21:00</td>\n",
       "      <td>גורגמל ״מצחיקונת״ 🍠</td>\n",
       "      <td>👍🏼\\r</td>\n",
       "    </tr>\n",
       "    <tr>\n",
       "      <th>24</th>\n",
       "      <td>2018-05-10 15:21:00</td>\n",
       "      <td>Alon Wolf 🐺</td>\n",
       "      <td>הקטגוריות הן - שאלות, משימות ותחרויות\\r</td>\n",
       "    </tr>\n",
       "    <tr>\n",
       "      <th>25</th>\n",
       "      <td>2018-05-10 15:35:00</td>\n",
       "      <td>Alon Wolf 🐺</td>\n",
       "      <td>תחרות אכילת חומוס אני תוהה איך אפשר לעשות\\r\\nא...</td>\n",
       "    </tr>\n",
       "    <tr>\n",
       "      <th>26</th>\n",
       "      <td>2018-05-10 15:37:00</td>\n",
       "      <td>Alon Wolf 🐺</td>\n",
       "      <td>כרגע זה תחרות לאכול פיתה וחומוס בלי ידיים וזה ...</td>\n",
       "    </tr>\n",
       "    <tr>\n",
       "      <th>27</th>\n",
       "      <td>2018-05-10 15:41:00</td>\n",
       "      <td>גורגמל ״מצחיקונת״ 🍠</td>\n",
       "      <td>אני זוכרת שהייתה לי משימה בסגנון והצלחתי דווקא...</td>\n",
       "    </tr>\n",
       "    <tr>\n",
       "      <th>28</th>\n",
       "      <td>2018-05-10 15:41:00</td>\n",
       "      <td>Alon Wolf 🐺</td>\n",
       "      <td>חשבנו לסיים חבילה קטנה של חומוס רק עם ניגוב פי...</td>\n",
       "    </tr>\n",
       "    <tr>\n",
       "      <th>29</th>\n",
       "      <td>2018-05-10 15:41:00</td>\n",
       "      <td>גורגמל ״מצחיקונת״ 🍠</td>\n",
       "      <td>אני חושבת שלאכול חומוס עם פיתה בלי הידיים, אבל...</td>\n",
       "    </tr>\n",
       "    <tr>\n",
       "      <th>30</th>\n",
       "      <td>2018-05-10 15:42:00</td>\n",
       "      <td>Alon Wolf 🐺</td>\n",
       "      <td>חחח איך עושים את זה?\\r</td>\n",
       "    </tr>\n",
       "    <tr>\n",
       "      <th>31</th>\n",
       "      <td>2018-05-10 15:42:00</td>\n",
       "      <td>Alon Wolf 🐺</td>\n",
       "      <td>תחרות אכילת חומוס עם ניגוב יכול להיות טוב לא?\\r</td>\n",
       "    </tr>\n",
       "    <tr>\n",
       "      <th>32</th>\n",
       "      <td>2018-05-10 15:44:00</td>\n",
       "      <td>גורגמל ״מצחיקונת״ 🍠</td>\n",
       "      <td>כן בטח\\r</td>\n",
       "    </tr>\n",
       "    <tr>\n",
       "      <th>33</th>\n",
       "      <td>2018-05-10 15:49:00</td>\n",
       "      <td>Alon Wolf 🐺</td>\n",
       "      <td>יש לך רעיונות להיסטוריה \\ גאוגרפיה? 😁 (הטבלה ב...</td>\n",
       "    </tr>\n",
       "    <tr>\n",
       "      <th>34</th>\n",
       "      <td>2018-05-10 16:03:00</td>\n",
       "      <td>Alon Wolf 🐺</td>\n",
       "      <td>טוב זה מה שחשבתי עליו:\\r\\n*היסטוריה:*\\r\\n100 -...</td>\n",
       "    </tr>\n",
       "    <tr>\n",
       "      <th>35</th>\n",
       "      <td>2018-05-10 16:54:00</td>\n",
       "      <td>גורגמל ״מצחיקונת״ 🍠</td>\n",
       "      <td>וואי מטקות זה מעולה!\\r</td>\n",
       "    </tr>\n",
       "    <tr>\n",
       "      <th>36</th>\n",
       "      <td>2018-05-10 16:54:00</td>\n",
       "      <td>גורגמל ״מצחיקונת״ 🍠</td>\n",
       "      <td>גם השאלות ממש אחלה\\r</td>\n",
       "    </tr>\n",
       "    <tr>\n",
       "      <th>37</th>\n",
       "      <td>2018-05-10 19:44:00</td>\n",
       "      <td>גורגמל ״מצחיקונת״ 🍠</td>\n",
       "      <td>אבא שלך היה בטלוויזיה!\\r</td>\n",
       "    </tr>\n",
       "    <tr>\n",
       "      <th>38</th>\n",
       "      <td>2018-05-10 20:05:00</td>\n",
       "      <td>גורגמל ״מצחיקונת״ 🍠</td>\n",
       "      <td>אם יוצא לך תראה את הקליפ לthis is america של c...</td>\n",
       "    </tr>\n",
       "    <tr>\n",
       "      <th>39</th>\n",
       "      <td>2018-05-10 20:51:00</td>\n",
       "      <td>Alon Wolf 🐺</td>\n",
       "      <td>אראה (: קליפ יפה?\\r</td>\n",
       "    </tr>\n",
       "    <tr>\n",
       "      <th>40</th>\n",
       "      <td>2018-05-10 20:55:00</td>\n",
       "      <td>Alon Wolf 🐺</td>\n",
       "      <td>כן אמא שלי שלחה סרטון שלו עכשיו בקבוצה\\r</td>\n",
       "    </tr>\n",
       "    <tr>\n",
       "      <th>41</th>\n",
       "      <td>2018-05-10 21:02:00</td>\n",
       "      <td>גורגמל ״מצחיקונת״ 🍠</td>\n",
       "      <td>לא בדיוק יפה, מעניין\\r</td>\n",
       "    </tr>\n",
       "    <tr>\n",
       "      <th>42</th>\n",
       "      <td>2018-05-10 21:02:00</td>\n",
       "      <td>Alon Wolf 🐺</td>\n",
       "      <td>אה סבבה\\r</td>\n",
       "    </tr>\n",
       "    <tr>\n",
       "      <th>43</th>\n",
       "      <td>2018-05-10 21:02:00</td>\n",
       "      <td>Alon Wolf 🐺</td>\n",
       "      <td>הוא לא ידע שהוא מופיע חחח\\r</td>\n",
       "    </tr>\n",
       "    <tr>\n",
       "      <th>44</th>\n",
       "      <td>2018-05-10 21:24:00</td>\n",
       "      <td>גורגמל ״מצחיקונת״ 🍠</td>\n",
       "      <td>חחחחחחח מצחיק\\r</td>\n",
       "    </tr>\n",
       "    <tr>\n",
       "      <th>45</th>\n",
       "      <td>2018-05-10 21:41:00</td>\n",
       "      <td>Alon Wolf 🐺</td>\n",
       "      <td>כמה אני אוהב אותך ואת בכל זאת מסננת אותי\\r</td>\n",
       "    </tr>\n",
       "    <tr>\n",
       "      <th>46</th>\n",
       "      <td>2018-05-10 21:41:00</td>\n",
       "      <td>Alon Wolf 🐺</td>\n",
       "      <td>סתם הלכת לישון?\\r</td>\n",
       "    </tr>\n",
       "    <tr>\n",
       "      <th>47</th>\n",
       "      <td>2018-05-10 22:02:00</td>\n",
       "      <td>Alon Wolf 🐺</td>\n",
       "      <td>https://youtu.be/Vj0GqUeUstM\\r</td>\n",
       "    </tr>\n",
       "    <tr>\n",
       "      <th>48</th>\n",
       "      <td>2018-05-10 22:02:00</td>\n",
       "      <td>Alon Wolf 🐺</td>\n",
       "      <td>https://youtu.be/D3hMFAjV1EM\\r</td>\n",
       "    </tr>\n",
       "  </tbody>\n",
       "</table>\n",
       "</div>"
      ],
      "text/plain": [
       "              datetime                 name  \\\n",
       "0  2018-05-10 13:45:00          Alon Wolf 🐺   \n",
       "1  2018-05-10 13:45:00          Alon Wolf 🐺   \n",
       "2  2018-05-10 13:46:00          Alon Wolf 🐺   \n",
       "3  2018-05-10 13:47:00  גורגמל ״מצחיקונת״ 🍠   \n",
       "4  2018-05-10 13:47:00  גורגמל ״מצחיקונת״ 🍠   \n",
       "5  2018-05-10 13:51:00          Alon Wolf 🐺   \n",
       "6  2018-05-10 13:52:00          Alon Wolf 🐺   \n",
       "7  2018-05-10 13:54:00  גורגמל ״מצחיקונת״ 🍠   \n",
       "8  2018-05-10 13:54:00  גורגמל ״מצחיקונת״ 🍠   \n",
       "9  2018-05-10 13:54:00          Alon Wolf 🐺   \n",
       "10 2018-05-10 13:56:00  גורגמל ״מצחיקונת״ 🍠   \n",
       "11 2018-05-10 13:56:00  גורגמל ״מצחיקונת״ 🍠   \n",
       "12 2018-05-10 13:58:00          Alon Wolf 🐺   \n",
       "13 2018-05-10 13:58:00          Alon Wolf 🐺   \n",
       "14 2018-05-10 13:59:00          Alon Wolf 🐺   \n",
       "15 2018-05-10 13:59:00  גורגמל ״מצחיקונת״ 🍠   \n",
       "16 2018-05-10 14:04:00          Alon Wolf 🐺   \n",
       "17 2018-05-10 14:05:00  גורגמל ״מצחיקונת״ 🍠   \n",
       "18 2018-05-10 14:06:00  גורגמל ״מצחיקונת״ 🍠   \n",
       "19 2018-05-10 14:06:00          Alon Wolf 🐺   \n",
       "20 2018-05-10 15:19:00          Alon Wolf 🐺   \n",
       "21 2018-05-10 15:19:00          Alon Wolf 🐺   \n",
       "22 2018-05-10 15:19:00          Alon Wolf 🐺   \n",
       "23 2018-05-10 15:21:00  גורגמל ״מצחיקונת״ 🍠   \n",
       "24 2018-05-10 15:21:00          Alon Wolf 🐺   \n",
       "25 2018-05-10 15:35:00          Alon Wolf 🐺   \n",
       "26 2018-05-10 15:37:00          Alon Wolf 🐺   \n",
       "27 2018-05-10 15:41:00  גורגמל ״מצחיקונת״ 🍠   \n",
       "28 2018-05-10 15:41:00          Alon Wolf 🐺   \n",
       "29 2018-05-10 15:41:00  גורגמל ״מצחיקונת״ 🍠   \n",
       "30 2018-05-10 15:42:00          Alon Wolf 🐺   \n",
       "31 2018-05-10 15:42:00          Alon Wolf 🐺   \n",
       "32 2018-05-10 15:44:00  גורגמל ״מצחיקונת״ 🍠   \n",
       "33 2018-05-10 15:49:00          Alon Wolf 🐺   \n",
       "34 2018-05-10 16:03:00          Alon Wolf 🐺   \n",
       "35 2018-05-10 16:54:00  גורגמל ״מצחיקונת״ 🍠   \n",
       "36 2018-05-10 16:54:00  גורגמל ״מצחיקונת״ 🍠   \n",
       "37 2018-05-10 19:44:00  גורגמל ״מצחיקונת״ 🍠   \n",
       "38 2018-05-10 20:05:00  גורגמל ״מצחיקונת״ 🍠   \n",
       "39 2018-05-10 20:51:00          Alon Wolf 🐺   \n",
       "40 2018-05-10 20:55:00          Alon Wolf 🐺   \n",
       "41 2018-05-10 21:02:00  גורגמל ״מצחיקונת״ 🍠   \n",
       "42 2018-05-10 21:02:00          Alon Wolf 🐺   \n",
       "43 2018-05-10 21:02:00          Alon Wolf 🐺   \n",
       "44 2018-05-10 21:24:00  גורגמל ״מצחיקונת״ 🍠   \n",
       "45 2018-05-10 21:41:00          Alon Wolf 🐺   \n",
       "46 2018-05-10 21:41:00          Alon Wolf 🐺   \n",
       "47 2018-05-10 22:02:00          Alon Wolf 🐺   \n",
       "48 2018-05-10 22:02:00          Alon Wolf 🐺   \n",
       "\n",
       "                                                 text  \n",
       "0                     איזה אתרים קדושים יש בירושלים\\r  \n",
       "1   לפי מקומות - תל-אביב - 'משימה שקשורה לים'\\r\\nי...  \n",
       "2                                         לדוגמא 👆🏼\\r  \n",
       "3                                 זה מה שאני אמרתי!\\r  \n",
       "4                           תעשה בירושלים את הפלאפל\\r  \n",
       "5                                  <המדיה לא נכללה>\\r  \n",
       "6                                       זה נכון חחח\\r  \n",
       "7          אולי בהקשר של תל אביב וים למרוח קרם הגנה\\r  \n",
       "8   לא יודעת בדיוק מה התחרות 😂 אבל משהו עם קרם הגנה\\r  \n",
       "9                                        חחחח אפשרי\\r  \n",
       "10  למרוח את הפנים של כולם, להצטלם ולהעלות לאינסטג...  \n",
       "11                           לאכול קרטיב בלי ידיים?\\r  \n",
       "12                          יש אכילת פיתה בלי ידיים\\r  \n",
       "13                       חסר משימה עם אכילת חומוס !\\r  \n",
       "14              מה עם 3 אחד על הגב של השני כמו גמל?\\r  \n",
       "15                                         לא הבנתי\\r  \n",
       "16  שמישהו אחד יצליח להחזיק 2 אנשים על הגב למשך חצ...  \n",
       "17                                   חחחחח זה מצחיק\\r  \n",
       "18                          רק שיכאב לו הגב אח''כ 😂\\r  \n",
       "19                                          שיתגברו\\r  \n",
       "20                                 <המדיה לא נכללה>\\r  \n",
       "21                                 <המדיה לא נכללה>\\r  \n",
       "22                           מה שיש לנו ומה שחסר (:\\r  \n",
       "23                                               👍🏼\\r  \n",
       "24            הקטגוריות הן - שאלות, משימות ותחרויות\\r  \n",
       "25  תחרות אכילת חומוס אני תוהה איך אפשר לעשות\\r\\nא...  \n",
       "26  כרגע זה תחרות לאכול פיתה וחומוס בלי ידיים וזה ...  \n",
       "27  אני זוכרת שהייתה לי משימה בסגנון והצלחתי דווקא...  \n",
       "28  חשבנו לסיים חבילה קטנה של חומוס רק עם ניגוב פי...  \n",
       "29  אני חושבת שלאכול חומוס עם פיתה בלי הידיים, אבל...  \n",
       "30                             חחח איך עושים את זה?\\r  \n",
       "31    תחרות אכילת חומוס עם ניגוב יכול להיות טוב לא?\\r  \n",
       "32                                           כן בטח\\r  \n",
       "33  יש לך רעיונות להיסטוריה \\ גאוגרפיה? 😁 (הטבלה ב...  \n",
       "34  טוב זה מה שחשבתי עליו:\\r\\n*היסטוריה:*\\r\\n100 -...  \n",
       "35                             וואי מטקות זה מעולה!\\r  \n",
       "36                               גם השאלות ממש אחלה\\r  \n",
       "37                           אבא שלך היה בטלוויזיה!\\r  \n",
       "38  אם יוצא לך תראה את הקליפ לthis is america של c...  \n",
       "39                                אראה (: קליפ יפה?\\r  \n",
       "40           כן אמא שלי שלחה סרטון שלו עכשיו בקבוצה\\r  \n",
       "41                             לא בדיוק יפה, מעניין\\r  \n",
       "42                                          אה סבבה\\r  \n",
       "43                        הוא לא ידע שהוא מופיע חחח\\r  \n",
       "44                                    חחחחחחח מצחיק\\r  \n",
       "45         כמה אני אוהב אותך ואת בכל זאת מסננת אותי\\r  \n",
       "46                                  סתם הלכת לישון?\\r  \n",
       "47                     https://youtu.be/Vj0GqUeUstM\\r  \n",
       "48                     https://youtu.be/D3hMFAjV1EM\\r  "
      ]
     },
     "execution_count": 38,
     "metadata": {},
     "output_type": "execute_result"
    }
   ],
   "source": [
    "chat_by_date"
   ]
  },
  {
   "cell_type": "code",
   "execution_count": null,
   "id": "44d57a28",
   "metadata": {},
   "outputs": [],
   "source": [
    "chat['datetime']"
   ]
  },
  {
   "cell_type": "code",
   "execution_count": 43,
   "id": "31c5ae75",
   "metadata": {},
   "outputs": [],
   "source": [
    "from datetime import timedelta"
   ]
  },
  {
   "cell_type": "code",
   "execution_count": 64,
   "id": "9246165a",
   "metadata": {},
   "outputs": [
    {
     "data": {
      "text/plain": [
       "(49,)"
      ]
     },
     "execution_count": 64,
     "metadata": {},
     "output_type": "execute_result"
    }
   ],
   "source": [
    "chat_by_date['datetime'].shape"
   ]
  },
  {
   "cell_type": "code",
   "execution_count": 57,
   "id": "8ad7c712",
   "metadata": {
    "scrolled": true
   },
   "outputs": [
    {
     "data": {
      "text/plain": [
       "0         NaT\n",
       "1    00:00:00\n",
       "2    00:01:00\n",
       "3    00:01:00\n",
       "4    00:00:00\n",
       "5    00:04:00\n",
       "6    00:01:00\n",
       "7    00:02:00\n",
       "8    00:00:00\n",
       "9    00:00:00\n",
       "10   00:02:00\n",
       "11   00:00:00\n",
       "12   00:02:00\n",
       "13   00:00:00\n",
       "14   00:01:00\n",
       "15   00:00:00\n",
       "16   00:05:00\n",
       "17   00:01:00\n",
       "18   00:01:00\n",
       "19   00:00:00\n",
       "20   01:13:00\n",
       "21   00:00:00\n",
       "22   00:00:00\n",
       "23   00:02:00\n",
       "24   00:00:00\n",
       "25   00:14:00\n",
       "26   00:02:00\n",
       "27   00:04:00\n",
       "28   00:00:00\n",
       "29   00:00:00\n",
       "30   00:01:00\n",
       "31   00:00:00\n",
       "32   00:02:00\n",
       "33   00:05:00\n",
       "34   00:14:00\n",
       "35   00:51:00\n",
       "36   00:00:00\n",
       "37   02:50:00\n",
       "38   00:21:00\n",
       "39   00:46:00\n",
       "40   00:04:00\n",
       "41   00:07:00\n",
       "42   00:00:00\n",
       "43   00:00:00\n",
       "44   00:22:00\n",
       "45   00:17:00\n",
       "46   00:00:00\n",
       "47   00:21:00\n",
       "48   00:00:00\n",
       "Name: datetime, dtype: timedelta64[ns]"
      ]
     },
     "execution_count": 57,
     "metadata": {},
     "output_type": "execute_result"
    }
   ],
   "source": [
    "chat_by_date['datetime'].diff()"
   ]
  },
  {
   "cell_type": "code",
   "execution_count": 107,
   "id": "82e121de",
   "metadata": {
    "scrolled": true
   },
   "outputs": [],
   "source": [
    "@st.cache\n",
    "def _get_mesanens(chat):\n",
    "    diff_time = chat['datetime'].diff() < timedelta(minutes=60)\n",
    "    conv_idx = np.where(~diff_time)[0]\n",
    "    conversations = [(conv_idx[i], conv_idx[i+1]) for i in range(len(conv_idx) - 1)]\n",
    "    sihut_count = {name: 0 for name in names}\n",
    "    mesanen_count = {name: 0 for name in names}\n",
    "\n",
    "    print(1)\n",
    "\n",
    "    def get_first_of_conv(conv):\n",
    "        return conv.iloc[0]['name']\n",
    "    def is_mesanen(conv):\n",
    "        return conv['name'].nunique() == 1\n",
    "\n",
    "    for c_s, c_e in conversations:\n",
    "        conv = chat.iloc[c_s: c_e]\n",
    "        if is_mesanen(chat.iloc[c_s: c_e]):\n",
    "            mesanen_count[get_first_of_conv(conv)] += 1\n",
    "        sihut_count[get_first_of_conv(conv)] += 1\n",
    "\n",
    "    mesanen_precent = {names[idx]: np.round(mesanen_count[names[idx]] / sihut_count[names[2 + int(~bool(idx))]], 2) for idx in range(len(names))}\n",
    "    return mesanen_count, sihut_count, mesanen_precent\n",
    "#     display(chat.iloc[c_s: c_e])\n",
    "#     print()"
   ]
  },
  {
   "cell_type": "code",
   "execution_count": 108,
   "id": "cce350ba",
   "metadata": {},
   "outputs": [
    {
     "name": "stdout",
     "output_type": "stream",
     "text": [
      "1\n"
     ]
    }
   ],
   "source": [
    "mesanen_count, sihut_count, mesanen_precent = _get_mesanens(chat)"
   ]
  },
  {
   "cell_type": "code",
   "execution_count": null,
   "id": "e6d2ac74",
   "metadata": {},
   "outputs": [],
   "source": [
    "print('')"
   ]
  },
  {
   "cell_type": "code",
   "execution_count": 98,
   "id": "f62b6c9d",
   "metadata": {},
   "outputs": [
    {
     "data": {
      "text/plain": [
       "{'Alon Wolf 🐺': 2121, 'גורגמל ״מצחיקונת״ 🍠': 1858}"
      ]
     },
     "execution_count": 98,
     "metadata": {},
     "output_type": "execute_result"
    }
   ],
   "source": [
    "sihut_count"
   ]
  },
  {
   "cell_type": "code",
   "execution_count": 119,
   "id": "4abcbbce",
   "metadata": {
    "scrolled": true
   },
   "outputs": [
    {
     "data": {
      "text/html": [
       "<div>\n",
       "<style scoped>\n",
       "    .dataframe tbody tr th:only-of-type {\n",
       "        vertical-align: middle;\n",
       "    }\n",
       "\n",
       "    .dataframe tbody tr th {\n",
       "        vertical-align: top;\n",
       "    }\n",
       "\n",
       "    .dataframe thead th {\n",
       "        text-align: right;\n",
       "    }\n",
       "</style>\n",
       "<table border=\"1\" class=\"dataframe\">\n",
       "  <thead>\n",
       "    <tr style=\"text-align: right;\">\n",
       "      <th></th>\n",
       "      <th>datetime</th>\n",
       "      <th>name</th>\n",
       "      <th>text</th>\n",
       "    </tr>\n",
       "  </thead>\n",
       "  <tbody>\n",
       "    <tr>\n",
       "      <th>0</th>\n",
       "      <td>2018-05-10 13:45:00</td>\n",
       "      <td>Alon Wolf 🐺</td>\n",
       "      <td>איזה אתרים קדושים יש בירושלים\\r</td>\n",
       "    </tr>\n",
       "    <tr>\n",
       "      <th>1</th>\n",
       "      <td>2018-05-10 13:45:00</td>\n",
       "      <td>Alon Wolf 🐺</td>\n",
       "      <td>לפי מקומות - תל-אביב - 'משימה שקשורה לים'\\r\\nי...</td>\n",
       "    </tr>\n",
       "    <tr>\n",
       "      <th>2</th>\n",
       "      <td>2018-05-10 13:46:00</td>\n",
       "      <td>Alon Wolf 🐺</td>\n",
       "      <td>לדוגמא 👆🏼\\r</td>\n",
       "    </tr>\n",
       "    <tr>\n",
       "      <th>3</th>\n",
       "      <td>2018-05-10 13:47:00</td>\n",
       "      <td>גורגמל ״מצחיקונת״ 🍠</td>\n",
       "      <td>זה מה שאני אמרתי!\\r</td>\n",
       "    </tr>\n",
       "    <tr>\n",
       "      <th>4</th>\n",
       "      <td>2018-05-10 13:47:00</td>\n",
       "      <td>גורגמל ״מצחיקונת״ 🍠</td>\n",
       "      <td>תעשה בירושלים את הפלאפל\\r</td>\n",
       "    </tr>\n",
       "    <tr>\n",
       "      <th>5</th>\n",
       "      <td>2018-05-10 13:51:00</td>\n",
       "      <td>Alon Wolf 🐺</td>\n",
       "      <td>&lt;המדיה לא נכללה&gt;\\r</td>\n",
       "    </tr>\n",
       "    <tr>\n",
       "      <th>6</th>\n",
       "      <td>2018-05-10 13:52:00</td>\n",
       "      <td>Alon Wolf 🐺</td>\n",
       "      <td>זה נכון חחח\\r</td>\n",
       "    </tr>\n",
       "    <tr>\n",
       "      <th>7</th>\n",
       "      <td>2018-05-10 13:54:00</td>\n",
       "      <td>גורגמל ״מצחיקונת״ 🍠</td>\n",
       "      <td>אולי בהקשר של תל אביב וים למרוח קרם הגנה\\r</td>\n",
       "    </tr>\n",
       "    <tr>\n",
       "      <th>8</th>\n",
       "      <td>2018-05-10 13:54:00</td>\n",
       "      <td>גורגמל ״מצחיקונת״ 🍠</td>\n",
       "      <td>לא יודעת בדיוק מה התחרות 😂 אבל משהו עם קרם הגנה\\r</td>\n",
       "    </tr>\n",
       "    <tr>\n",
       "      <th>9</th>\n",
       "      <td>2018-05-10 13:54:00</td>\n",
       "      <td>Alon Wolf 🐺</td>\n",
       "      <td>חחחח אפשרי\\r</td>\n",
       "    </tr>\n",
       "    <tr>\n",
       "      <th>10</th>\n",
       "      <td>2018-05-10 13:56:00</td>\n",
       "      <td>גורגמל ״מצחיקונת״ 🍠</td>\n",
       "      <td>למרוח את הפנים של כולם, להצטלם ולהעלות לאינסטג...</td>\n",
       "    </tr>\n",
       "    <tr>\n",
       "      <th>11</th>\n",
       "      <td>2018-05-10 13:56:00</td>\n",
       "      <td>גורגמל ״מצחיקונת״ 🍠</td>\n",
       "      <td>לאכול קרטיב בלי ידיים?\\r</td>\n",
       "    </tr>\n",
       "    <tr>\n",
       "      <th>12</th>\n",
       "      <td>2018-05-10 13:58:00</td>\n",
       "      <td>Alon Wolf 🐺</td>\n",
       "      <td>יש אכילת פיתה בלי ידיים\\r</td>\n",
       "    </tr>\n",
       "    <tr>\n",
       "      <th>13</th>\n",
       "      <td>2018-05-10 13:58:00</td>\n",
       "      <td>Alon Wolf 🐺</td>\n",
       "      <td>חסר משימה עם אכילת חומוס !\\r</td>\n",
       "    </tr>\n",
       "    <tr>\n",
       "      <th>14</th>\n",
       "      <td>2018-05-10 13:59:00</td>\n",
       "      <td>Alon Wolf 🐺</td>\n",
       "      <td>מה עם 3 אחד על הגב של השני כמו גמל?\\r</td>\n",
       "    </tr>\n",
       "    <tr>\n",
       "      <th>15</th>\n",
       "      <td>2018-05-10 13:59:00</td>\n",
       "      <td>גורגמל ״מצחיקונת״ 🍠</td>\n",
       "      <td>לא הבנתי\\r</td>\n",
       "    </tr>\n",
       "    <tr>\n",
       "      <th>16</th>\n",
       "      <td>2018-05-10 14:04:00</td>\n",
       "      <td>Alon Wolf 🐺</td>\n",
       "      <td>שמישהו אחד יצליח להחזיק 2 אנשים על הגב למשך חצ...</td>\n",
       "    </tr>\n",
       "    <tr>\n",
       "      <th>17</th>\n",
       "      <td>2018-05-10 14:05:00</td>\n",
       "      <td>גורגמל ״מצחיקונת״ 🍠</td>\n",
       "      <td>חחחחח זה מצחיק\\r</td>\n",
       "    </tr>\n",
       "    <tr>\n",
       "      <th>18</th>\n",
       "      <td>2018-05-10 14:06:00</td>\n",
       "      <td>גורגמל ״מצחיקונת״ 🍠</td>\n",
       "      <td>רק שיכאב לו הגב אח''כ 😂\\r</td>\n",
       "    </tr>\n",
       "    <tr>\n",
       "      <th>19</th>\n",
       "      <td>2018-05-10 14:06:00</td>\n",
       "      <td>Alon Wolf 🐺</td>\n",
       "      <td>שיתגברו\\r</td>\n",
       "    </tr>\n",
       "    <tr>\n",
       "      <th>20</th>\n",
       "      <td>2018-05-10 15:19:00</td>\n",
       "      <td>Alon Wolf 🐺</td>\n",
       "      <td>&lt;המדיה לא נכללה&gt;\\r</td>\n",
       "    </tr>\n",
       "    <tr>\n",
       "      <th>21</th>\n",
       "      <td>2018-05-10 15:19:00</td>\n",
       "      <td>Alon Wolf 🐺</td>\n",
       "      <td>&lt;המדיה לא נכללה&gt;\\r</td>\n",
       "    </tr>\n",
       "    <tr>\n",
       "      <th>22</th>\n",
       "      <td>2018-05-10 15:19:00</td>\n",
       "      <td>Alon Wolf 🐺</td>\n",
       "      <td>מה שיש לנו ומה שחסר (:\\r</td>\n",
       "    </tr>\n",
       "    <tr>\n",
       "      <th>23</th>\n",
       "      <td>2018-05-10 15:21:00</td>\n",
       "      <td>גורגמל ״מצחיקונת״ 🍠</td>\n",
       "      <td>👍🏼\\r</td>\n",
       "    </tr>\n",
       "    <tr>\n",
       "      <th>24</th>\n",
       "      <td>2018-05-10 15:21:00</td>\n",
       "      <td>Alon Wolf 🐺</td>\n",
       "      <td>הקטגוריות הן - שאלות, משימות ותחרויות\\r</td>\n",
       "    </tr>\n",
       "    <tr>\n",
       "      <th>25</th>\n",
       "      <td>2018-05-10 15:35:00</td>\n",
       "      <td>Alon Wolf 🐺</td>\n",
       "      <td>תחרות אכילת חומוס אני תוהה איך אפשר לעשות\\r\\nא...</td>\n",
       "    </tr>\n",
       "    <tr>\n",
       "      <th>26</th>\n",
       "      <td>2018-05-10 15:37:00</td>\n",
       "      <td>Alon Wolf 🐺</td>\n",
       "      <td>כרגע זה תחרות לאכול פיתה וחומוס בלי ידיים וזה ...</td>\n",
       "    </tr>\n",
       "    <tr>\n",
       "      <th>27</th>\n",
       "      <td>2018-05-10 15:41:00</td>\n",
       "      <td>גורגמל ״מצחיקונת״ 🍠</td>\n",
       "      <td>אני זוכרת שהייתה לי משימה בסגנון והצלחתי דווקא...</td>\n",
       "    </tr>\n",
       "    <tr>\n",
       "      <th>28</th>\n",
       "      <td>2018-05-10 15:41:00</td>\n",
       "      <td>Alon Wolf 🐺</td>\n",
       "      <td>חשבנו לסיים חבילה קטנה של חומוס רק עם ניגוב פי...</td>\n",
       "    </tr>\n",
       "    <tr>\n",
       "      <th>29</th>\n",
       "      <td>2018-05-10 15:41:00</td>\n",
       "      <td>גורגמל ״מצחיקונת״ 🍠</td>\n",
       "      <td>אני חושבת שלאכול חומוס עם פיתה בלי הידיים, אבל...</td>\n",
       "    </tr>\n",
       "    <tr>\n",
       "      <th>30</th>\n",
       "      <td>2018-05-10 15:42:00</td>\n",
       "      <td>Alon Wolf 🐺</td>\n",
       "      <td>חחח איך עושים את זה?\\r</td>\n",
       "    </tr>\n",
       "    <tr>\n",
       "      <th>31</th>\n",
       "      <td>2018-05-10 15:42:00</td>\n",
       "      <td>Alon Wolf 🐺</td>\n",
       "      <td>תחרות אכילת חומוס עם ניגוב יכול להיות טוב לא?\\r</td>\n",
       "    </tr>\n",
       "    <tr>\n",
       "      <th>32</th>\n",
       "      <td>2018-05-10 15:44:00</td>\n",
       "      <td>גורגמל ״מצחיקונת״ 🍠</td>\n",
       "      <td>כן בטח\\r</td>\n",
       "    </tr>\n",
       "    <tr>\n",
       "      <th>33</th>\n",
       "      <td>2018-05-10 15:49:00</td>\n",
       "      <td>Alon Wolf 🐺</td>\n",
       "      <td>יש לך רעיונות להיסטוריה \\ גאוגרפיה? 😁 (הטבלה ב...</td>\n",
       "    </tr>\n",
       "    <tr>\n",
       "      <th>34</th>\n",
       "      <td>2018-05-10 16:03:00</td>\n",
       "      <td>Alon Wolf 🐺</td>\n",
       "      <td>טוב זה מה שחשבתי עליו:\\r\\n*היסטוריה:*\\r\\n100 -...</td>\n",
       "    </tr>\n",
       "    <tr>\n",
       "      <th>35</th>\n",
       "      <td>2018-05-10 16:54:00</td>\n",
       "      <td>גורגמל ״מצחיקונת״ 🍠</td>\n",
       "      <td>וואי מטקות זה מעולה!\\r</td>\n",
       "    </tr>\n",
       "    <tr>\n",
       "      <th>36</th>\n",
       "      <td>2018-05-10 16:54:00</td>\n",
       "      <td>גורגמל ״מצחיקונת״ 🍠</td>\n",
       "      <td>גם השאלות ממש אחלה\\r</td>\n",
       "    </tr>\n",
       "    <tr>\n",
       "      <th>37</th>\n",
       "      <td>2018-05-10 19:44:00</td>\n",
       "      <td>גורגמל ״מצחיקונת״ 🍠</td>\n",
       "      <td>אבא שלך היה בטלוויזיה!\\r</td>\n",
       "    </tr>\n",
       "    <tr>\n",
       "      <th>38</th>\n",
       "      <td>2018-05-10 20:05:00</td>\n",
       "      <td>גורגמל ״מצחיקונת״ 🍠</td>\n",
       "      <td>אם יוצא לך תראה את הקליפ לthis is america של c...</td>\n",
       "    </tr>\n",
       "    <tr>\n",
       "      <th>39</th>\n",
       "      <td>2018-05-10 20:51:00</td>\n",
       "      <td>Alon Wolf 🐺</td>\n",
       "      <td>אראה (: קליפ יפה?\\r</td>\n",
       "    </tr>\n",
       "    <tr>\n",
       "      <th>40</th>\n",
       "      <td>2018-05-10 20:55:00</td>\n",
       "      <td>Alon Wolf 🐺</td>\n",
       "      <td>כן אמא שלי שלחה סרטון שלו עכשיו בקבוצה\\r</td>\n",
       "    </tr>\n",
       "    <tr>\n",
       "      <th>41</th>\n",
       "      <td>2018-05-10 21:02:00</td>\n",
       "      <td>גורגמל ״מצחיקונת״ 🍠</td>\n",
       "      <td>לא בדיוק יפה, מעניין\\r</td>\n",
       "    </tr>\n",
       "    <tr>\n",
       "      <th>42</th>\n",
       "      <td>2018-05-10 21:02:00</td>\n",
       "      <td>Alon Wolf 🐺</td>\n",
       "      <td>אה סבבה\\r</td>\n",
       "    </tr>\n",
       "    <tr>\n",
       "      <th>43</th>\n",
       "      <td>2018-05-10 21:02:00</td>\n",
       "      <td>Alon Wolf 🐺</td>\n",
       "      <td>הוא לא ידע שהוא מופיע חחח\\r</td>\n",
       "    </tr>\n",
       "    <tr>\n",
       "      <th>44</th>\n",
       "      <td>2018-05-10 21:24:00</td>\n",
       "      <td>גורגמל ״מצחיקונת״ 🍠</td>\n",
       "      <td>חחחחחחח מצחיק\\r</td>\n",
       "    </tr>\n",
       "    <tr>\n",
       "      <th>45</th>\n",
       "      <td>2018-05-10 21:41:00</td>\n",
       "      <td>Alon Wolf 🐺</td>\n",
       "      <td>כמה אני אוהב אותך ואת בכל זאת מסננת אותי\\r</td>\n",
       "    </tr>\n",
       "    <tr>\n",
       "      <th>46</th>\n",
       "      <td>2018-05-10 21:41:00</td>\n",
       "      <td>Alon Wolf 🐺</td>\n",
       "      <td>סתם הלכת לישון?\\r</td>\n",
       "    </tr>\n",
       "    <tr>\n",
       "      <th>47</th>\n",
       "      <td>2018-05-10 22:02:00</td>\n",
       "      <td>Alon Wolf 🐺</td>\n",
       "      <td>https://youtu.be/Vj0GqUeUstM\\r</td>\n",
       "    </tr>\n",
       "    <tr>\n",
       "      <th>48</th>\n",
       "      <td>2018-05-10 22:02:00</td>\n",
       "      <td>Alon Wolf 🐺</td>\n",
       "      <td>https://youtu.be/D3hMFAjV1EM\\r</td>\n",
       "    </tr>\n",
       "  </tbody>\n",
       "</table>\n",
       "</div>"
      ],
      "text/plain": [
       "              datetime                 name  \\\n",
       "0  2018-05-10 13:45:00          Alon Wolf 🐺   \n",
       "1  2018-05-10 13:45:00          Alon Wolf 🐺   \n",
       "2  2018-05-10 13:46:00          Alon Wolf 🐺   \n",
       "3  2018-05-10 13:47:00  גורגמל ״מצחיקונת״ 🍠   \n",
       "4  2018-05-10 13:47:00  גורגמל ״מצחיקונת״ 🍠   \n",
       "5  2018-05-10 13:51:00          Alon Wolf 🐺   \n",
       "6  2018-05-10 13:52:00          Alon Wolf 🐺   \n",
       "7  2018-05-10 13:54:00  גורגמל ״מצחיקונת״ 🍠   \n",
       "8  2018-05-10 13:54:00  גורגמל ״מצחיקונת״ 🍠   \n",
       "9  2018-05-10 13:54:00          Alon Wolf 🐺   \n",
       "10 2018-05-10 13:56:00  גורגמל ״מצחיקונת״ 🍠   \n",
       "11 2018-05-10 13:56:00  גורגמל ״מצחיקונת״ 🍠   \n",
       "12 2018-05-10 13:58:00          Alon Wolf 🐺   \n",
       "13 2018-05-10 13:58:00          Alon Wolf 🐺   \n",
       "14 2018-05-10 13:59:00          Alon Wolf 🐺   \n",
       "15 2018-05-10 13:59:00  גורגמל ״מצחיקונת״ 🍠   \n",
       "16 2018-05-10 14:04:00          Alon Wolf 🐺   \n",
       "17 2018-05-10 14:05:00  גורגמל ״מצחיקונת״ 🍠   \n",
       "18 2018-05-10 14:06:00  גורגמל ״מצחיקונת״ 🍠   \n",
       "19 2018-05-10 14:06:00          Alon Wolf 🐺   \n",
       "20 2018-05-10 15:19:00          Alon Wolf 🐺   \n",
       "21 2018-05-10 15:19:00          Alon Wolf 🐺   \n",
       "22 2018-05-10 15:19:00          Alon Wolf 🐺   \n",
       "23 2018-05-10 15:21:00  גורגמל ״מצחיקונת״ 🍠   \n",
       "24 2018-05-10 15:21:00          Alon Wolf 🐺   \n",
       "25 2018-05-10 15:35:00          Alon Wolf 🐺   \n",
       "26 2018-05-10 15:37:00          Alon Wolf 🐺   \n",
       "27 2018-05-10 15:41:00  גורגמל ״מצחיקונת״ 🍠   \n",
       "28 2018-05-10 15:41:00          Alon Wolf 🐺   \n",
       "29 2018-05-10 15:41:00  גורגמל ״מצחיקונת״ 🍠   \n",
       "30 2018-05-10 15:42:00          Alon Wolf 🐺   \n",
       "31 2018-05-10 15:42:00          Alon Wolf 🐺   \n",
       "32 2018-05-10 15:44:00  גורגמל ״מצחיקונת״ 🍠   \n",
       "33 2018-05-10 15:49:00          Alon Wolf 🐺   \n",
       "34 2018-05-10 16:03:00          Alon Wolf 🐺   \n",
       "35 2018-05-10 16:54:00  גורגמל ״מצחיקונת״ 🍠   \n",
       "36 2018-05-10 16:54:00  גורגמל ״מצחיקונת״ 🍠   \n",
       "37 2018-05-10 19:44:00  גורגמל ״מצחיקונת״ 🍠   \n",
       "38 2018-05-10 20:05:00  גורגמל ״מצחיקונת״ 🍠   \n",
       "39 2018-05-10 20:51:00          Alon Wolf 🐺   \n",
       "40 2018-05-10 20:55:00          Alon Wolf 🐺   \n",
       "41 2018-05-10 21:02:00  גורגמל ״מצחיקונת״ 🍠   \n",
       "42 2018-05-10 21:02:00          Alon Wolf 🐺   \n",
       "43 2018-05-10 21:02:00          Alon Wolf 🐺   \n",
       "44 2018-05-10 21:24:00  גורגמל ״מצחיקונת״ 🍠   \n",
       "45 2018-05-10 21:41:00          Alon Wolf 🐺   \n",
       "46 2018-05-10 21:41:00          Alon Wolf 🐺   \n",
       "47 2018-05-10 22:02:00          Alon Wolf 🐺   \n",
       "48 2018-05-10 22:02:00          Alon Wolf 🐺   \n",
       "\n",
       "                                                 text  \n",
       "0                     איזה אתרים קדושים יש בירושלים\\r  \n",
       "1   לפי מקומות - תל-אביב - 'משימה שקשורה לים'\\r\\nי...  \n",
       "2                                         לדוגמא 👆🏼\\r  \n",
       "3                                 זה מה שאני אמרתי!\\r  \n",
       "4                           תעשה בירושלים את הפלאפל\\r  \n",
       "5                                  <המדיה לא נכללה>\\r  \n",
       "6                                       זה נכון חחח\\r  \n",
       "7          אולי בהקשר של תל אביב וים למרוח קרם הגנה\\r  \n",
       "8   לא יודעת בדיוק מה התחרות 😂 אבל משהו עם קרם הגנה\\r  \n",
       "9                                        חחחח אפשרי\\r  \n",
       "10  למרוח את הפנים של כולם, להצטלם ולהעלות לאינסטג...  \n",
       "11                           לאכול קרטיב בלי ידיים?\\r  \n",
       "12                          יש אכילת פיתה בלי ידיים\\r  \n",
       "13                       חסר משימה עם אכילת חומוס !\\r  \n",
       "14              מה עם 3 אחד על הגב של השני כמו גמל?\\r  \n",
       "15                                         לא הבנתי\\r  \n",
       "16  שמישהו אחד יצליח להחזיק 2 אנשים על הגב למשך חצ...  \n",
       "17                                   חחחחח זה מצחיק\\r  \n",
       "18                          רק שיכאב לו הגב אח''כ 😂\\r  \n",
       "19                                          שיתגברו\\r  \n",
       "20                                 <המדיה לא נכללה>\\r  \n",
       "21                                 <המדיה לא נכללה>\\r  \n",
       "22                           מה שיש לנו ומה שחסר (:\\r  \n",
       "23                                               👍🏼\\r  \n",
       "24            הקטגוריות הן - שאלות, משימות ותחרויות\\r  \n",
       "25  תחרות אכילת חומוס אני תוהה איך אפשר לעשות\\r\\nא...  \n",
       "26  כרגע זה תחרות לאכול פיתה וחומוס בלי ידיים וזה ...  \n",
       "27  אני זוכרת שהייתה לי משימה בסגנון והצלחתי דווקא...  \n",
       "28  חשבנו לסיים חבילה קטנה של חומוס רק עם ניגוב פי...  \n",
       "29  אני חושבת שלאכול חומוס עם פיתה בלי הידיים, אבל...  \n",
       "30                             חחח איך עושים את זה?\\r  \n",
       "31    תחרות אכילת חומוס עם ניגוב יכול להיות טוב לא?\\r  \n",
       "32                                           כן בטח\\r  \n",
       "33  יש לך רעיונות להיסטוריה \\ גאוגרפיה? 😁 (הטבלה ב...  \n",
       "34  טוב זה מה שחשבתי עליו:\\r\\n*היסטוריה:*\\r\\n100 -...  \n",
       "35                             וואי מטקות זה מעולה!\\r  \n",
       "36                               גם השאלות ממש אחלה\\r  \n",
       "37                           אבא שלך היה בטלוויזיה!\\r  \n",
       "38  אם יוצא לך תראה את הקליפ לthis is america של c...  \n",
       "39                                אראה (: קליפ יפה?\\r  \n",
       "40           כן אמא שלי שלחה סרטון שלו עכשיו בקבוצה\\r  \n",
       "41                             לא בדיוק יפה, מעניין\\r  \n",
       "42                                          אה סבבה\\r  \n",
       "43                        הוא לא ידע שהוא מופיע חחח\\r  \n",
       "44                                    חחחחחחח מצחיק\\r  \n",
       "45         כמה אני אוהב אותך ואת בכל זאת מסננת אותי\\r  \n",
       "46                                  סתם הלכת לישון?\\r  \n",
       "47                     https://youtu.be/Vj0GqUeUstM\\r  \n",
       "48                     https://youtu.be/D3hMFAjV1EM\\r  "
      ]
     },
     "execution_count": 119,
     "metadata": {},
     "output_type": "execute_result"
    }
   ],
   "source": [
    "chat_by_date"
   ]
  },
  {
   "cell_type": "code",
   "execution_count": 137,
   "id": "be9fa4ca",
   "metadata": {},
   "outputs": [],
   "source": []
  },
  {
   "cell_type": "code",
   "execution_count": 149,
   "id": "f787d2e0",
   "metadata": {},
   "outputs": [],
   "source": [
    "td = diffs.iloc[0]['diff']"
   ]
  },
  {
   "cell_type": "code",
   "execution_count": 163,
   "id": "49fe15a7",
   "metadata": {
    "scrolled": true
   },
   "outputs": [],
   "source": [
    "@st.cache\n",
    "def get_responses_hist(chat):\n",
    "    responses = chat['name'] != chat['name'].shift(1)\n",
    "    responses.iloc[0] = False\n",
    "    idx = np.where(responses)[0]\n",
    "    \n",
    "    diffs = pd.DataFrame([{\n",
    "        'diff' : (chat['datetime'].iloc[i] - chat['datetime'].iloc[i - 1]).seconds / 60,\n",
    "        'name' : chat['name'].iloc[i]\n",
    "    } for i in idx], index = idx)\n",
    "    print(diffs['name'].value_counts())\n",
    "    hist_data = [diffs[diffs['name'] == name]['diff'] for name in names]\n",
    "    group_labels = names\n",
    "    return hist_data, group_labels"
   ]
  },
  {
   "cell_type": "code",
   "execution_count": 164,
   "id": "745c3485",
   "metadata": {},
   "outputs": [
    {
     "name": "stdout",
     "output_type": "stream",
     "text": [
      "גורגמל ״מצחיקונת״ 🍠    9471\n",
      "Alon Wolf 🐺            9471\n",
      "Name: name, dtype: int64\n"
     ]
    }
   ],
   "source": [
    "hist_data, group_labels = get_responses_hist(chat)"
   ]
  },
  {
   "cell_type": "code",
   "execution_count": 170,
   "id": "8b8458c0",
   "metadata": {},
   "outputs": [
    {
     "data": {
      "text/plain": [
       "0         True\n",
       "1         True\n",
       "2         True\n",
       "3         True\n",
       "4         True\n",
       "         ...  \n",
       "39994    False\n",
       "39995    False\n",
       "39996    False\n",
       "39997    False\n",
       "39998    False\n",
       "Name: datetime, Length: 39999, dtype: bool"
      ]
     },
     "execution_count": 170,
     "metadata": {},
     "output_type": "execute_result"
    }
   ],
   "source": []
  },
  {
   "cell_type": "code",
   "execution_count": 172,
   "id": "e38f38cd",
   "metadata": {},
   "outputs": [
    {
     "name": "stdout",
     "output_type": "stream",
     "text": [
      "גורגמל ״מצחיקונת״ 🍠    2438\n",
      "Alon Wolf 🐺            2437\n",
      "Name: name, dtype: int64\n"
     ]
    }
   ],
   "source": [
    "chatt = chat[chat['datetime'].dt.year < 2019]\n",
    "responses = chatt['name'] != chatt['name'].shift(1)\n",
    "responses.iloc[0] = False\n",
    "idx = np.where(responses)[0]\n",
    "\n",
    "diffs = pd.DataFrame([{\n",
    "    'diff' : (chatt['datetime'].iloc[i] - chatt['datetime'].iloc[i - 1]).seconds / 60,\n",
    "    'name' : chatt['name'].iloc[i]\n",
    "} for i in idx], index = idx)\n",
    "print(diffs['name'].value_counts())\n",
    "hist_data = [diffs[diffs['name'] == name]['diff'] for name in names]\n",
    "group_labels = names"
   ]
  },
  {
   "cell_type": "code",
   "execution_count": 166,
   "id": "86909992",
   "metadata": {},
   "outputs": [
    {
     "data": {
      "text/html": [
       "<div>\n",
       "<style scoped>\n",
       "    .dataframe tbody tr th:only-of-type {\n",
       "        vertical-align: middle;\n",
       "    }\n",
       "\n",
       "    .dataframe tbody tr th {\n",
       "        vertical-align: top;\n",
       "    }\n",
       "\n",
       "    .dataframe thead th {\n",
       "        text-align: right;\n",
       "    }\n",
       "</style>\n",
       "<table border=\"1\" class=\"dataframe\">\n",
       "  <thead>\n",
       "    <tr style=\"text-align: right;\">\n",
       "      <th></th>\n",
       "      <th>diff</th>\n",
       "      <th>name</th>\n",
       "    </tr>\n",
       "  </thead>\n",
       "  <tbody>\n",
       "    <tr>\n",
       "      <th>3</th>\n",
       "      <td>1.0</td>\n",
       "      <td>גורגמל ״מצחיקונת״ 🍠</td>\n",
       "    </tr>\n",
       "    <tr>\n",
       "      <th>5</th>\n",
       "      <td>4.0</td>\n",
       "      <td>Alon Wolf 🐺</td>\n",
       "    </tr>\n",
       "    <tr>\n",
       "      <th>7</th>\n",
       "      <td>2.0</td>\n",
       "      <td>גורגמל ״מצחיקונת״ 🍠</td>\n",
       "    </tr>\n",
       "    <tr>\n",
       "      <th>9</th>\n",
       "      <td>0.0</td>\n",
       "      <td>Alon Wolf 🐺</td>\n",
       "    </tr>\n",
       "    <tr>\n",
       "      <th>10</th>\n",
       "      <td>2.0</td>\n",
       "      <td>גורגמל ״מצחיקונת״ 🍠</td>\n",
       "    </tr>\n",
       "    <tr>\n",
       "      <th>...</th>\n",
       "      <td>...</td>\n",
       "      <td>...</td>\n",
       "    </tr>\n",
       "    <tr>\n",
       "      <th>39980</th>\n",
       "      <td>1.0</td>\n",
       "      <td>Alon Wolf 🐺</td>\n",
       "    </tr>\n",
       "    <tr>\n",
       "      <th>39982</th>\n",
       "      <td>1.0</td>\n",
       "      <td>גורגמל ״מצחיקונת״ 🍠</td>\n",
       "    </tr>\n",
       "    <tr>\n",
       "      <th>39985</th>\n",
       "      <td>11.0</td>\n",
       "      <td>Alon Wolf 🐺</td>\n",
       "    </tr>\n",
       "    <tr>\n",
       "      <th>39988</th>\n",
       "      <td>67.0</td>\n",
       "      <td>גורגמל ״מצחיקונת״ 🍠</td>\n",
       "    </tr>\n",
       "    <tr>\n",
       "      <th>39994</th>\n",
       "      <td>380.0</td>\n",
       "      <td>Alon Wolf 🐺</td>\n",
       "    </tr>\n",
       "  </tbody>\n",
       "</table>\n",
       "<p>18942 rows × 2 columns</p>\n",
       "</div>"
      ],
      "text/plain": [
       "        diff                 name\n",
       "3        1.0  גורגמל ״מצחיקונת״ 🍠\n",
       "5        4.0          Alon Wolf 🐺\n",
       "7        2.0  גורגמל ״מצחיקונת״ 🍠\n",
       "9        0.0          Alon Wolf 🐺\n",
       "10       2.0  גורגמל ״מצחיקונת״ 🍠\n",
       "...      ...                  ...\n",
       "39980    1.0          Alon Wolf 🐺\n",
       "39982    1.0  גורגמל ״מצחיקונת״ 🍠\n",
       "39985   11.0          Alon Wolf 🐺\n",
       "39988   67.0  גורגמל ״מצחיקונת״ 🍠\n",
       "39994  380.0          Alon Wolf 🐺\n",
       "\n",
       "[18942 rows x 2 columns]"
      ]
     },
     "execution_count": 166,
     "metadata": {},
     "output_type": "execute_result"
    }
   ],
   "source": [
    "diffs"
   ]
  },
  {
   "cell_type": "code",
   "execution_count": 135,
   "id": "8c5d50f1",
   "metadata": {
    "scrolled": true
   },
   "outputs": [],
   "source": [
    "before = responses.shift(-1)\n",
    "# before.index = before.index - 1\n",
    "before.iloc[-1] = False"
   ]
  },
  {
   "cell_type": "code",
   "execution_count": 136,
   "id": "19d21511",
   "metadata": {
    "scrolled": true
   },
   "outputs": [
    {
     "data": {
      "text/html": [
       "<div>\n",
       "<style scoped>\n",
       "    .dataframe tbody tr th:only-of-type {\n",
       "        vertical-align: middle;\n",
       "    }\n",
       "\n",
       "    .dataframe tbody tr th {\n",
       "        vertical-align: top;\n",
       "    }\n",
       "\n",
       "    .dataframe thead th {\n",
       "        text-align: right;\n",
       "    }\n",
       "</style>\n",
       "<table border=\"1\" class=\"dataframe\">\n",
       "  <thead>\n",
       "    <tr style=\"text-align: right;\">\n",
       "      <th></th>\n",
       "      <th>datetime</th>\n",
       "      <th>name</th>\n",
       "      <th>text</th>\n",
       "    </tr>\n",
       "  </thead>\n",
       "  <tbody>\n",
       "    <tr>\n",
       "      <th>2</th>\n",
       "      <td>2018-05-10 13:46:00</td>\n",
       "      <td>Alon Wolf 🐺</td>\n",
       "      <td>לדוגמא 👆🏼\\r</td>\n",
       "    </tr>\n",
       "    <tr>\n",
       "      <th>4</th>\n",
       "      <td>2018-05-10 13:47:00</td>\n",
       "      <td>גורגמל ״מצחיקונת״ 🍠</td>\n",
       "      <td>תעשה בירושלים את הפלאפל\\r</td>\n",
       "    </tr>\n",
       "    <tr>\n",
       "      <th>6</th>\n",
       "      <td>2018-05-10 13:52:00</td>\n",
       "      <td>Alon Wolf 🐺</td>\n",
       "      <td>זה נכון חחח\\r</td>\n",
       "    </tr>\n",
       "    <tr>\n",
       "      <th>8</th>\n",
       "      <td>2018-05-10 13:54:00</td>\n",
       "      <td>גורגמל ״מצחיקונת״ 🍠</td>\n",
       "      <td>לא יודעת בדיוק מה התחרות 😂 אבל משהו עם קרם הגנה\\r</td>\n",
       "    </tr>\n",
       "    <tr>\n",
       "      <th>9</th>\n",
       "      <td>2018-05-10 13:54:00</td>\n",
       "      <td>Alon Wolf 🐺</td>\n",
       "      <td>חחחח אפשרי\\r</td>\n",
       "    </tr>\n",
       "    <tr>\n",
       "      <th>11</th>\n",
       "      <td>2018-05-10 13:56:00</td>\n",
       "      <td>גורגמל ״מצחיקונת״ 🍠</td>\n",
       "      <td>לאכול קרטיב בלי ידיים?\\r</td>\n",
       "    </tr>\n",
       "    <tr>\n",
       "      <th>14</th>\n",
       "      <td>2018-05-10 13:59:00</td>\n",
       "      <td>Alon Wolf 🐺</td>\n",
       "      <td>מה עם 3 אחד על הגב של השני כמו גמל?\\r</td>\n",
       "    </tr>\n",
       "    <tr>\n",
       "      <th>15</th>\n",
       "      <td>2018-05-10 13:59:00</td>\n",
       "      <td>גורגמל ״מצחיקונת״ 🍠</td>\n",
       "      <td>לא הבנתי\\r</td>\n",
       "    </tr>\n",
       "    <tr>\n",
       "      <th>16</th>\n",
       "      <td>2018-05-10 14:04:00</td>\n",
       "      <td>Alon Wolf 🐺</td>\n",
       "      <td>שמישהו אחד יצליח להחזיק 2 אנשים על הגב למשך חצ...</td>\n",
       "    </tr>\n",
       "    <tr>\n",
       "      <th>18</th>\n",
       "      <td>2018-05-10 14:06:00</td>\n",
       "      <td>גורגמל ״מצחיקונת״ 🍠</td>\n",
       "      <td>רק שיכאב לו הגב אח''כ 😂\\r</td>\n",
       "    </tr>\n",
       "    <tr>\n",
       "      <th>22</th>\n",
       "      <td>2018-05-10 15:19:00</td>\n",
       "      <td>Alon Wolf 🐺</td>\n",
       "      <td>מה שיש לנו ומה שחסר (:\\r</td>\n",
       "    </tr>\n",
       "    <tr>\n",
       "      <th>23</th>\n",
       "      <td>2018-05-10 15:21:00</td>\n",
       "      <td>גורגמל ״מצחיקונת״ 🍠</td>\n",
       "      <td>👍🏼\\r</td>\n",
       "    </tr>\n",
       "    <tr>\n",
       "      <th>26</th>\n",
       "      <td>2018-05-10 15:37:00</td>\n",
       "      <td>Alon Wolf 🐺</td>\n",
       "      <td>כרגע זה תחרות לאכול פיתה וחומוס בלי ידיים וזה ...</td>\n",
       "    </tr>\n",
       "    <tr>\n",
       "      <th>27</th>\n",
       "      <td>2018-05-10 15:41:00</td>\n",
       "      <td>גורגמל ״מצחיקונת״ 🍠</td>\n",
       "      <td>אני זוכרת שהייתה לי משימה בסגנון והצלחתי דווקא...</td>\n",
       "    </tr>\n",
       "    <tr>\n",
       "      <th>28</th>\n",
       "      <td>2018-05-10 15:41:00</td>\n",
       "      <td>Alon Wolf 🐺</td>\n",
       "      <td>חשבנו לסיים חבילה קטנה של חומוס רק עם ניגוב פי...</td>\n",
       "    </tr>\n",
       "    <tr>\n",
       "      <th>29</th>\n",
       "      <td>2018-05-10 15:41:00</td>\n",
       "      <td>גורגמל ״מצחיקונת״ 🍠</td>\n",
       "      <td>אני חושבת שלאכול חומוס עם פיתה בלי הידיים, אבל...</td>\n",
       "    </tr>\n",
       "    <tr>\n",
       "      <th>31</th>\n",
       "      <td>2018-05-10 15:42:00</td>\n",
       "      <td>Alon Wolf 🐺</td>\n",
       "      <td>תחרות אכילת חומוס עם ניגוב יכול להיות טוב לא?\\r</td>\n",
       "    </tr>\n",
       "    <tr>\n",
       "      <th>32</th>\n",
       "      <td>2018-05-10 15:44:00</td>\n",
       "      <td>גורגמל ״מצחיקונת״ 🍠</td>\n",
       "      <td>כן בטח\\r</td>\n",
       "    </tr>\n",
       "    <tr>\n",
       "      <th>34</th>\n",
       "      <td>2018-05-10 16:03:00</td>\n",
       "      <td>Alon Wolf 🐺</td>\n",
       "      <td>טוב זה מה שחשבתי עליו:\\r\\n*היסטוריה:*\\r\\n100 -...</td>\n",
       "    </tr>\n",
       "    <tr>\n",
       "      <th>38</th>\n",
       "      <td>2018-05-10 20:05:00</td>\n",
       "      <td>גורגמל ״מצחיקונת״ 🍠</td>\n",
       "      <td>אם יוצא לך תראה את הקליפ לthis is america של c...</td>\n",
       "    </tr>\n",
       "    <tr>\n",
       "      <th>40</th>\n",
       "      <td>2018-05-10 20:55:00</td>\n",
       "      <td>Alon Wolf 🐺</td>\n",
       "      <td>כן אמא שלי שלחה סרטון שלו עכשיו בקבוצה\\r</td>\n",
       "    </tr>\n",
       "    <tr>\n",
       "      <th>41</th>\n",
       "      <td>2018-05-10 21:02:00</td>\n",
       "      <td>גורגמל ״מצחיקונת״ 🍠</td>\n",
       "      <td>לא בדיוק יפה, מעניין\\r</td>\n",
       "    </tr>\n",
       "    <tr>\n",
       "      <th>43</th>\n",
       "      <td>2018-05-10 21:02:00</td>\n",
       "      <td>Alon Wolf 🐺</td>\n",
       "      <td>הוא לא ידע שהוא מופיע חחח\\r</td>\n",
       "    </tr>\n",
       "    <tr>\n",
       "      <th>44</th>\n",
       "      <td>2018-05-10 21:24:00</td>\n",
       "      <td>גורגמל ״מצחיקונת״ 🍠</td>\n",
       "      <td>חחחחחחח מצחיק\\r</td>\n",
       "    </tr>\n",
       "  </tbody>\n",
       "</table>\n",
       "</div>"
      ],
      "text/plain": [
       "              datetime                 name  \\\n",
       "2  2018-05-10 13:46:00          Alon Wolf 🐺   \n",
       "4  2018-05-10 13:47:00  גורגמל ״מצחיקונת״ 🍠   \n",
       "6  2018-05-10 13:52:00          Alon Wolf 🐺   \n",
       "8  2018-05-10 13:54:00  גורגמל ״מצחיקונת״ 🍠   \n",
       "9  2018-05-10 13:54:00          Alon Wolf 🐺   \n",
       "11 2018-05-10 13:56:00  גורגמל ״מצחיקונת״ 🍠   \n",
       "14 2018-05-10 13:59:00          Alon Wolf 🐺   \n",
       "15 2018-05-10 13:59:00  גורגמל ״מצחיקונת״ 🍠   \n",
       "16 2018-05-10 14:04:00          Alon Wolf 🐺   \n",
       "18 2018-05-10 14:06:00  גורגמל ״מצחיקונת״ 🍠   \n",
       "22 2018-05-10 15:19:00          Alon Wolf 🐺   \n",
       "23 2018-05-10 15:21:00  גורגמל ״מצחיקונת״ 🍠   \n",
       "26 2018-05-10 15:37:00          Alon Wolf 🐺   \n",
       "27 2018-05-10 15:41:00  גורגמל ״מצחיקונת״ 🍠   \n",
       "28 2018-05-10 15:41:00          Alon Wolf 🐺   \n",
       "29 2018-05-10 15:41:00  גורגמל ״מצחיקונת״ 🍠   \n",
       "31 2018-05-10 15:42:00          Alon Wolf 🐺   \n",
       "32 2018-05-10 15:44:00  גורגמל ״מצחיקונת״ 🍠   \n",
       "34 2018-05-10 16:03:00          Alon Wolf 🐺   \n",
       "38 2018-05-10 20:05:00  גורגמל ״מצחיקונת״ 🍠   \n",
       "40 2018-05-10 20:55:00          Alon Wolf 🐺   \n",
       "41 2018-05-10 21:02:00  גורגמל ״מצחיקונת״ 🍠   \n",
       "43 2018-05-10 21:02:00          Alon Wolf 🐺   \n",
       "44 2018-05-10 21:24:00  גורגמל ״מצחיקונת״ 🍠   \n",
       "\n",
       "                                                 text  \n",
       "2                                         לדוגמא 👆🏼\\r  \n",
       "4                           תעשה בירושלים את הפלאפל\\r  \n",
       "6                                       זה נכון חחח\\r  \n",
       "8   לא יודעת בדיוק מה התחרות 😂 אבל משהו עם קרם הגנה\\r  \n",
       "9                                        חחחח אפשרי\\r  \n",
       "11                           לאכול קרטיב בלי ידיים?\\r  \n",
       "14              מה עם 3 אחד על הגב של השני כמו גמל?\\r  \n",
       "15                                         לא הבנתי\\r  \n",
       "16  שמישהו אחד יצליח להחזיק 2 אנשים על הגב למשך חצ...  \n",
       "18                          רק שיכאב לו הגב אח''כ 😂\\r  \n",
       "22                           מה שיש לנו ומה שחסר (:\\r  \n",
       "23                                               👍🏼\\r  \n",
       "26  כרגע זה תחרות לאכול פיתה וחומוס בלי ידיים וזה ...  \n",
       "27  אני זוכרת שהייתה לי משימה בסגנון והצלחתי דווקא...  \n",
       "28  חשבנו לסיים חבילה קטנה של חומוס רק עם ניגוב פי...  \n",
       "29  אני חושבת שלאכול חומוס עם פיתה בלי הידיים, אבל...  \n",
       "31    תחרות אכילת חומוס עם ניגוב יכול להיות טוב לא?\\r  \n",
       "32                                           כן בטח\\r  \n",
       "34  טוב זה מה שחשבתי עליו:\\r\\n*היסטוריה:*\\r\\n100 -...  \n",
       "38  אם יוצא לך תראה את הקליפ לthis is america של c...  \n",
       "40           כן אמא שלי שלחה סרטון שלו עכשיו בקבוצה\\r  \n",
       "41                             לא בדיוק יפה, מעניין\\r  \n",
       "43                        הוא לא ידע שהוא מופיע חחח\\r  \n",
       "44                                    חחחחחחח מצחיק\\r  "
      ]
     },
     "execution_count": 136,
     "metadata": {},
     "output_type": "execute_result"
    }
   ],
   "source": [
    "chat_by_date[before]"
   ]
  },
  {
   "cell_type": "code",
   "execution_count": null,
   "id": "469b5150",
   "metadata": {},
   "outputs": [],
   "source": [
    "series = tokenize_text(text).apply(len)\n",
    "series.plot.hist(range = (0,np.quantile(series,0.998)))"
   ]
  },
  {
   "cell_type": "code",
   "execution_count": null,
   "id": "14c23656",
   "metadata": {},
   "outputs": [],
   "source": []
  },
  {
   "cell_type": "code",
   "execution_count": null,
   "id": "3ccde974",
   "metadata": {},
   "outputs": [],
   "source": []
  },
  {
   "cell_type": "code",
   "execution_count": null,
   "id": "1061f931",
   "metadata": {},
   "outputs": [],
   "source": []
  },
  {
   "cell_type": "code",
   "execution_count": null,
   "id": "36818485",
   "metadata": {},
   "outputs": [],
   "source": [
    "def first_massage(chat, name):\n",
    "    first_massage_by_date = chat.groupby(chat['datetime'].dt.date).first()['name']\n",
    "    fm_vc = first_massage_by_date.value_counts() / len(first_massage_by_date)\n",
    "    return np.round(fm_vc[name], 2)"
   ]
  },
  {
   "cell_type": "code",
   "execution_count": 112,
   "id": "9313e24a",
   "metadata": {},
   "outputs": [
    {
     "data": {
      "text/plain": [
       "0.46"
      ]
     },
     "execution_count": 112,
     "metadata": {},
     "output_type": "execute_result"
    }
   ],
   "source": [
    "def first_boker(chat, name):\n",
    "    chat = chat[chat['text'].str.contains('בוקר')]\n",
    "    first_massage_by_date = chat.groupby(chat['datetime'].dt.date).first()['name']\n",
    "    fm_vc = first_massage_by_date.value_counts() / len(first_massage_by_date)\n",
    "    return np.round(fm_vc[name], 2)\n",
    "first_boker(chat, name)"
   ]
  },
  {
   "cell_type": "code",
   "execution_count": 114,
   "id": "ddece808",
   "metadata": {},
   "outputs": [
    {
     "data": {
      "text/plain": [
       "0.57"
      ]
     },
     "execution_count": 114,
     "metadata": {},
     "output_type": "execute_result"
    }
   ],
   "source": [
    "def first_night(chat, name):\n",
    "    chat = chat[chat['text'].str.contains('לילה')]\n",
    "    first_massage_by_date = chat.groupby(chat['datetime'].dt.date).first()['name']\n",
    "    fm_vc = first_massage_by_date.value_counts() / len(first_massage_by_date)\n",
    "    return np.round(fm_vc[name], 2)\n",
    "first_night(chat, name)"
   ]
  },
  {
   "cell_type": "code",
   "execution_count": null,
   "id": "5c2741b3",
   "metadata": {},
   "outputs": [],
   "source": []
  },
  {
   "cell_type": "code",
   "execution_count": null,
   "id": "19dfc02f",
   "metadata": {},
   "outputs": [],
   "source": []
  },
  {
   "cell_type": "code",
   "execution_count": null,
   "id": "6b3e970f",
   "metadata": {},
   "outputs": [],
   "source": []
  },
  {
   "cell_type": "markdown",
   "id": "b4071799",
   "metadata": {},
   "source": [
    "# ClearML"
   ]
  },
  {
   "cell_type": "code",
   "execution_count": 2,
   "id": "c4897306",
   "metadata": {},
   "outputs": [],
   "source": [
    "from clearml import Task\n",
    "task = Task.init(project_name=\"wolf_test\", task_name=\"wolf_test\")"
   ]
  },
  {
   "cell_type": "code",
   "execution_count": null,
   "id": "8c6cdcd6",
   "metadata": {},
   "outputs": [],
   "source": [
    "Task.current_task().upload_artifact(name='a_file', artifact_object='local_file.bin')\n",
    "Task.current_task().upload_artifact(name='numpy', artifact_object=np.ones(4,4))"
   ]
  },
  {
   "cell_type": "code",
   "execution_count": null,
   "id": "f42294e9",
   "metadata": {},
   "outputs": [],
   "source": [
    "from clearml import Logger\n",
    "Logger.current_logger().report_scalar(graph='metric', series='variant', value=13.37, iteration=counter)"
   ]
  }
 ],
 "metadata": {
  "kernelspec": {
   "display_name": "Python 3",
   "language": "python",
   "name": "python3"
  },
  "language_info": {
   "codemirror_mode": {
    "name": "ipython",
    "version": 3
   },
   "file_extension": ".py",
   "mimetype": "text/x-python",
   "name": "python",
   "nbconvert_exporter": "python",
   "pygments_lexer": "ipython3",
   "version": "3.7.5"
  }
 },
 "nbformat": 4,
 "nbformat_minor": 5
}
